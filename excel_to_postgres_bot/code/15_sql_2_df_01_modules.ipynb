{
 "cells": [
  {
   "cell_type": "markdown",
   "metadata": {},
   "source": [
    "## imports"
   ]
  },
  {
   "cell_type": "code",
   "execution_count": 1,
   "metadata": {},
   "outputs": [
    {
     "name": "stdout",
     "output_type": "stream",
     "text": [
      "Все необходимые для работы программы служебные файлы присутствуют в папке 'C:\\Users\\VAIO\\Documents\\'.\n",
      "\n",
      "Начинаю загружать пути\n",
      "\n",
      "hostname = \"304-004\"\n",
      "\n",
      "Файл с авторизационными данными пользователя (роль) \"sql_user_info.txt\" найден по адресу \"C:\\Users\\VAIO\\Documents\\sql_user_info.txt\"\n",
      "\n",
      "hostname = \"304-004\"\n",
      "\n",
      "Файл с авторизационными данными пользователя (роль) \"sql_user_info.txt\" найден по адресу \"C:\\Users\\VAIO\\Documents\\sql_user_info.txt\"\n",
      "\n",
      "Начинаю загружать доп. переменные и словари\n"
     ]
    }
   ],
   "source": [
    "import os\n",
    "import socket\n",
    "import sys\n",
    "\n",
    "import pandas as pd\n",
    "\n",
    "from sqlalchemy import create_engine, text\n",
    "\n",
    "\n",
    "fn_res = r'..\\from_sql\\df.parquet'\n",
    "\n",
    "# кортеж с именами необходимых для работы программы служебных файлов\n",
    "tup_fns = (\n",
    "    'user_functions.py',\n",
    "    'paths_and_constants.py',\n",
    "    'dict_sql_queries.py',\n",
    "    'get_dicts_v_06.py',\n",
    ")\n",
    "\n",
    "\n",
    "# функция, которая проверяет отсутствие имен файлов из кортежа tup_fns в содержимом папки path_\n",
    "def check_missing_files(tup_fns, path_):\n",
    "    # Получаем список файлов в указанной папке\n",
    "    files_in_directory = os.listdir(path_)\n",
    "    \n",
    "    # Создаём список файлов, которых нет в папке\n",
    "    missing_files = [file for file in tup_fns if file not in files_in_directory]\n",
    "    \n",
    "    # Проверка и вывод результата\n",
    "    if missing_files:\n",
    "        print(f\"Следующие файлы отсутствуют в папке '{path_}': {', '.join(missing_files)}\")\n",
    "        sys.exit()\n",
    "    else:\n",
    "        print(f\"Все необходимые для работы программы служебные файлы присутствуют в папке '{path_}'.\")\n",
    "    \n",
    "    return missing_files\n",
    "\n",
    "# получаем имя компьютера\n",
    "hostname = socket.gethostname()\n",
    "\n",
    "# если программа выполняется на сервере\n",
    "if hostname == '304-007':\n",
    "    # указываем путь к общим документам\n",
    "    path_ = r'C:\\Users\\Public\\dictionaries'\n",
    "# иначе (если программа выполняется на своём рабочем ПК)\n",
    "else:\n",
    "    # указываем путь к документам активного пользователя\n",
    "    path_ = os.path.expanduser('~\\\\Documents\\\\')\n",
    "\n",
    "# проверяем отсутствие имен файлов из кортежа tup_fns в содержимом папки path_\n",
    "check_missing_files(tup_fns, path_)\n",
    "\n",
    "# добавляем путь к системному пути поиска модулей (путь к папке, в которой Python ищет модули)\n",
    "sys.path.append(path_)\n",
    "\n",
    "# далее импорт пользовательских библиотек идёт с пути `path_`\n",
    "try:\n",
    "    from user_functions import create_sql_connection, get_sql_user_info_from_txt_file\n",
    "    from paths_and_constants import cinfo, tup_server_1_big\n",
    "except:\n",
    "    print(f'\\nДоп. модули, необходиимые для работы кода, НЕ НАЙДЕНЫ по адресу \"{path_}\"')\n"
   ]
  },
  {
   "cell_type": "markdown",
   "metadata": {},
   "source": [
    "## constants"
   ]
  },
  {
   "cell_type": "code",
   "execution_count": 2,
   "metadata": {},
   "outputs": [],
   "source": [
    "schema = 'big_data'\n",
    "tablename = 'df_5213'"
   ]
  },
  {
   "cell_type": "markdown",
   "metadata": {},
   "source": [
    "## create sql connection"
   ]
  },
  {
   "cell_type": "code",
   "execution_count": 3,
   "metadata": {},
   "outputs": [],
   "source": [
    "[user, pwd] = get_sql_user_info_from_txt_file(cinfo)\n",
    "\n",
    "engine = create_sql_connection(user, pwd, tup_server_1_big)"
   ]
  },
  {
   "cell_type": "markdown",
   "metadata": {},
   "source": [
    "## upload table from sql"
   ]
  },
  {
   "cell_type": "code",
   "execution_count": 4,
   "metadata": {},
   "outputs": [],
   "source": [
    "user_answer = input('Do You want to read the entire table or its part usinq Your query? Press \"E\" for entire or another button for the query: ')"
   ]
  },
  {
   "cell_type": "markdown",
   "metadata": {},
   "source": [
    "### entire table"
   ]
  },
  {
   "cell_type": "code",
   "execution_count": 5,
   "metadata": {},
   "outputs": [],
   "source": [
    "if user_answer.lower() == 'e':\n",
    "    with engine.connect() as conn:\n",
    "        # df_5213 = pd.read_sql_table('df_5213', conn, schema, )\n",
    "        exec(f\"{tablename} = pd.read_sql_table('{tablename}', conn, schema, )\")\n",
    "        "
   ]
  },
  {
   "cell_type": "markdown",
   "metadata": {},
   "source": [
    "### using a query"
   ]
  },
  {
   "cell_type": "code",
   "execution_count": 6,
   "metadata": {},
   "outputs": [],
   "source": [
    "if user_answer.lower() != 'e':\n",
    "    query = '''\n",
    "    WITH unnested_dj AS\n",
    "    (\n",
    "        SELECT \n",
    "            pat_id, \n",
    "            recipe_info\n",
    "        FROM \n",
    "            recipes.temp_7837_2024_09_23, \n",
    "            UNNEST(regexp_split_to_array(dj_rec_info, '&')) AS recipe_info\n",
    "        WHERE TRUE\n",
    "            AND LEFT (split_part(recipe_info, '--', 2), 7) >= '2024.09'\n",
    "            AND LEFT (split_part(recipe_info, '--', 2), 7) < '2024.10'\n",
    "    )\n",
    "    , unnested_fo AS\n",
    "    (\n",
    "        SELECT \n",
    "            pat_id, \n",
    "            recipe_info\n",
    "        FROM \n",
    "            recipes.temp_7837_2024_09_23, \n",
    "            UNNEST(regexp_split_to_array(fo_rec_info, '&')) AS recipe_info\n",
    "        WHERE TRUE\n",
    "            AND LEFT (split_part(recipe_info, '--', 2), 7) >= '2024.09'\n",
    "            AND LEFT (split_part(recipe_info, '--', 2), 7) < '2024.10'\n",
    "    )\n",
    "    , unnested_ju AS\n",
    "    (\n",
    "        SELECT \n",
    "            pat_id, \n",
    "            recipe_info\n",
    "        FROM \n",
    "            recipes.temp_7837_2024_09_23, \n",
    "            UNNEST(regexp_split_to_array(ju_rec_info, '&')) AS recipe_info\n",
    "        WHERE TRUE\n",
    "            AND ju_rec_info NOTNULL\n",
    "            AND LEFT (split_part(recipe_info, '--', 2), 7) >= '2024.09'\n",
    "            AND LEFT (split_part(recipe_info, '--', 2), 7) < '2024.10'\n",
    "    )\n",
    "SELECT \n",
    "    pat_id\n",
    "    , 'dj' AS \"drug\"\n",
    "    , LEFT (split_part(recipe_info, '--', 2), 10) AS date\n",
    "FROM \n",
    "    unnested_dj\n",
    "UNION ALL\n",
    "SELECT\n",
    "    pat_id\n",
    "    , 'fo' AS \"drug\"\n",
    "    , LEFT (split_part(recipe_info, '--', 2), 10) AS date\n",
    "FROM \n",
    "    unnested_fo\n",
    "UNION ALL\n",
    "SELECT \n",
    "    pat_id\n",
    "    , 'ju' AS \"drug\"\n",
    "    , LEFT (split_part(recipe_info, '--', 2), 10) AS date\n",
    "FROM \n",
    "    unnested_ju\n",
    ";\n",
    "    '''\n",
    "\n",
    "    # query = query.format(\n",
    "    #     schema=schema,\n",
    "    #     tablename=tablename,\n",
    "    # )\n",
    "\n",
    "    with engine.connect() as conn:\n",
    "        df = pd.read_sql_query(query, conn, )\n",
    "        "
   ]
  },
  {
   "cell_type": "code",
   "execution_count": null,
   "metadata": {},
   "outputs": [],
   "source": [
    "df"
   ]
  },
  {
   "cell_type": "code",
   "execution_count": 10,
   "metadata": {},
   "outputs": [],
   "source": [
    "if not os.path.exists(fn_res.rsplit(rf'{os.sep}', 1)[0]):\n",
    "    os.makedirs(fn_res.rsplit(rf'{os.sep}', 1)[0])\n",
    "\n",
    "df.to_parquet(fn_res)"
   ]
  },
  {
   "cell_type": "code",
   "execution_count": null,
   "metadata": {},
   "outputs": [],
   "source": [
    "os.startfile(fn_res.rsplit(rf'{os.sep}', 1)[0])"
   ]
  }
 ],
 "metadata": {
  "kernelspec": {
   "display_name": "Python 3",
   "language": "python",
   "name": "python3"
  },
  "language_info": {
   "codemirror_mode": {
    "name": "ipython",
    "version": 3
   },
   "file_extension": ".py",
   "mimetype": "text/x-python",
   "name": "python",
   "nbconvert_exporter": "python",
   "pygments_lexer": "ipython3",
   "version": "3.11.4"
  }
 },
 "nbformat": 4,
 "nbformat_minor": 2
}
